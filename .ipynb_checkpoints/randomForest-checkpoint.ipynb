{
 "cells": [
  {
   "cell_type": "code",
   "execution_count": 206,
   "metadata": {},
   "outputs": [],
   "source": [
    "import pandas as pd\n",
    "import numpy as np\n",
    "from itertools import repeat\n",
    "from random import randrange\n",
    "import math"
   ]
  },
  {
   "cell_type": "code",
   "execution_count": 207,
   "metadata": {},
   "outputs": [],
   "source": [
    "def entropy(arr):\n",
    "    unique, counts = np.unique(arr, return_counts=True)\n",
    "    category_probs = np.array(counts/arr.size)\n",
    "    plogp = category_probs * np.log2(category_probs)\n",
    "    return np.sum(plogp) * -1\n",
    "\n",
    "def information_gain(df, attribute):\n",
    "    labels = np.array(df['label'])\n",
    "    entropy_total = entropy(labels)\n",
    "    value, counts = np.unique(np.array(df[attribute]), return_counts=True)\n",
    "    attr_probs = dict(zip(value, counts/labels.size))\n",
    "    partition_sum = 0\n",
    "    for key, value in attr_probs.items():\n",
    "            new_df = df[(df[attribute] == key)]\n",
    "            new_label = np.array(new_df['label'])\n",
    "            partition_sum += value * entropy(new_label)\n",
    "    return entropy_total - partition_sum\n"
   ]
  },
  {
   "cell_type": "code",
   "execution_count": 208,
   "metadata": {},
   "outputs": [],
   "source": [
    "class Tree(object):\n",
    "    def __init__(self):\n",
    "        self.left = None\n",
    "        self.child = []\n",
    "        self.data = ''\n",
    "    def createChildren(self,partitions):\n",
    "        for partition in partitions:\n",
    "            self.child.append({partition: Tree()})\n",
    "    def setValue(self,attr):\n",
    "        self.data = attr\n",
    "\n",
    "def decision_tree(root, df, attribute_list):\n",
    "    unique_labels, counts = np.unique(np.array(df['label']), return_counts=True)\n",
    "    if (unique_labels.size == 1) or (not attribute_list):\n",
    "        #termination_condtion\n",
    "        unique_label_index = np.argmax(counts)\n",
    "        root.setValue({'label': unique_labels[unique_label_index]})\n",
    "        return\n",
    "    else:\n",
    "        ig = list(map(information_gain, repeat(df), attribute_list))\n",
    "        max_ig_index = ig.index(max(ig))\n",
    "        split_attr_name = attribute_list[max_ig_index]\n",
    "        partitions = np.unique(np.array(df[split_attr_name]))\n",
    "        root.createChildren(partitions)\n",
    "        root.setValue(split_attr_name)\n",
    "        for idx,partition in enumerate(partitions):\n",
    "            partition_df = df[df[split_attr_name] == partition]\n",
    "            decision_tree(root.child[idx][partition], partition_df, [x for x in attribute_list if x != split_attr_name])\n"
   ]
  },
  {
   "cell_type": "code",
   "execution_count": 209,
   "metadata": {
    "scrolled": true
   },
   "outputs": [],
   "source": [
    "def predict(root, obj):\n",
    "    found = True\n",
    "    while root and found == True:\n",
    "        found = False\n",
    "        attr = root.data\n",
    "        value = obj[attr]\n",
    "        for child in root.child:\n",
    "            child_node = child.get(value)\n",
    "            if child_node:\n",
    "                if type(child_node.data) is dict and (child_node.data.get('label') or child_node.data.get('label') == False):\n",
    "                    return child_node.data.get('label')\n",
    "                else:\n",
    "                    root = child_node\n",
    "                    found = True\n",
    "                    break\n",
    "        found == False\n",
    "    return np.nan\n"
   ]
  },
  {
   "cell_type": "code",
   "execution_count": 210,
   "metadata": {},
   "outputs": [],
   "source": [
    "def random_sampling(attributes, number):\n",
    "    rand_attr = []\n",
    "    temp_length = len(attributes)\n",
    "    temp_attributes = attributes\n",
    "    for i in range(0, number):\n",
    "        rand_index = randrange(temp_length)\n",
    "        rand_attr.append(temp_attributes[rand_index])\n",
    "        temp_attributes = [x for x in temp_attributes if x != temp_attributes[rand_index]]\n",
    "        temp_length -= 1\n",
    "    return rand_attr\n",
    "\n",
    "\n",
    "def random_forest(df, numberOfTrees, percentageOfAttributes):\n",
    "    trees = []\n",
    "    columns = df.columns.tolist()\n",
    "    columns.remove('label')\n",
    "    number_of_attributes = math.floor((percentageOfAttributes/100) * len(columns))\n",
    "    for i in range(0, numberOfTrees):\n",
    "        rand_attr_list = random_sampling(columns, number_of_attributes)\n",
    "        root = Tree()\n",
    "        decision_tree(root, df, rand_attr_list)\n",
    "        trees.append(root)\n",
    "    return trees\n"
   ]
  },
  {
   "cell_type": "code",
   "execution_count": 211,
   "metadata": {},
   "outputs": [],
   "source": [
    "def TrainAndTestRandomForest(trainingdata, numberOfTrees, percentageOfAttributes, testdata):\n",
    "    training_df = pd.read_csv(trainingdata)\n",
    "    test_df = pd.read_csv(testdata)\n",
    "    \n",
    "    predicted_array = np.array([])\n",
    "    trees = random_forest(training_df, numberOfTrees, percentageOfAttributes)\n",
    "    total_count = 0\n",
    "    correct_prediction = 0\n",
    "    for row in test_df.to_dict(orient=\"records\"):\n",
    "        votes = np.array([])\n",
    "        real_value = row['label']\n",
    "        for tree in trees:\n",
    "            votes = np.append(votes, predict(tree, row))\n",
    "        unique_votes, votes_count = np.unique(votes[votes != 'nan'], return_counts=True)\n",
    "        max_vote_index = np.argmax(votes_count)\n",
    "        predicted = unique_votes[max_vote_index]\n",
    "        predicted_array = np.append(predicted_array, predicted)\n",
    "        if predicted == real_value:\n",
    "            correct_prediction += 1\n",
    "        total_count += 1\n",
    "    accuracy = (correct_prediction/total_count) * 100\n",
    "    predicted_df = test_df.copy()\n",
    "    predicted_df['predicted_label'] = predicted_array\n",
    "    \n",
    "    summary_df = pd.DataFrame([['numberOfTrees',numberOfTrees],\n",
    "                               ['percentageOfAttributes', str(percentageOfAttributes) + '%'],\n",
    "                               ['accuracy', str(accuracy) + '%']], columns = ['Summary', 'Stats'])\n",
    "    \n",
    "    predicted_df.to_csv('prediction.csv', index=False)\n",
    "    \n",
    "    summary_df.to_csv('prediction.csv', index=False, mode='a')\n",
    "\n",
    "TrainAndTestRandomForest('./data/banks.csv', 20, 80, './data/banks-test.csv')"
   ]
  },
  {
   "cell_type": "code",
   "execution_count": null,
   "metadata": {},
   "outputs": [],
   "source": []
  }
 ],
 "metadata": {
  "kernelspec": {
   "display_name": "Python 3",
   "language": "python",
   "name": "python3"
  },
  "language_info": {
   "codemirror_mode": {
    "name": "ipython",
    "version": 3
   },
   "file_extension": ".py",
   "mimetype": "text/x-python",
   "name": "python",
   "nbconvert_exporter": "python",
   "pygments_lexer": "ipython3",
   "version": "3.7.4"
  }
 },
 "nbformat": 4,
 "nbformat_minor": 4
}
