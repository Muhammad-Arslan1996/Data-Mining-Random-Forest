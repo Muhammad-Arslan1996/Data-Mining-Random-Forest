{
 "cells": [
  {
   "cell_type": "code",
   "execution_count": 1,
   "metadata": {
    "collapsed": false
   },
   "outputs": [
   ],
   "source": [
    "import pandas as pd\n",
    "import numpy as np\n",
    "from itertools import repeat\n",
    "from random import randrange\n",
    "import math"
   ]
  },
  {
   "cell_type": "code",
   "execution_count": 2,
   "metadata": {
    "collapsed": false
   },
   "outputs": [
   ],
   "source": [
    "df = pd.read_csv('interviewee.csv')\n",
    "banks_training = pd.read_csv('banks.csv')\n",
    "banks_testing = pd.read_csv('banks-test.csv')"
   ]
  },
  {
   "cell_type": "code",
   "execution_count": 3,
   "metadata": {
    "collapsed": false
   },
   "outputs": [
   ],
   "source": [
    "def entropy(arr):\n",
    "    unique, counts = np.unique(arr, return_counts=True)\n",
    "    category_probs = np.array(counts/arr.size)\n",
    "    plogp = category_probs * np.log2(category_probs)\n",
    "    return np.sum(plogp) * -1\n",
    "\n",
    "def information_gain(df, attribute):\n",
    "    labels = np.array(df['label'])\n",
    "    entropy_total = entropy(labels)\n",
    "    value, counts = np.unique(np.array(df[attribute]), return_counts=True)\n",
    "    attr_probs = dict(zip(value, counts/labels.size))\n",
    "    partition_sum = 0\n",
    "    for key, value in attr_probs.items():\n",
    "            new_df = df[(df[attribute] == key)]\n",
    "            new_label = np.array(new_df['label'])\n",
    "            partition_sum += value * entropy(new_label)\n",
    "    return entropy_total - partition_sum\n"
   ]
  },
  {
   "cell_type": "code",
   "execution_count": 4,
   "metadata": {
    "collapsed": false
   },
   "outputs": [
   ],
   "source": [
    "class Tree(object):\n",
    "    def __init__(self):\n",
    "        self.left = None\n",
    "        self.child = []\n",
    "        self.data = ''\n",
    "    def createChildren(self,partitions):\n",
    "        for partition in partitions:\n",
    "            self.child.append({partition: Tree()})\n",
    "    def setValue(self,attr):\n",
    "        self.data = attr\n",
    "\n",
    "def decision_tree(root, df, attribute_list):\n",
    "    unique_labels, counts = np.unique(np.array(df['label']), return_counts=True)\n",
    "    if (unique_labels.size == 1) or (not attribute_list):\n",
    "        #termination_condtion\n",
    "        unique_label_index = np.argmax(counts)\n",
    "        root.setValue({'label': unique_labels[unique_label_index]})\n",
    "        return\n",
    "    else:\n",
    "        ig = list(map(information_gain, repeat(df), attribute_list))\n",
    "        max_ig_index = ig.index(max(ig))\n",
    "        split_attr_name = attribute_list[max_ig_index]\n",
    "        partitions = np.unique(np.array(df[split_attr_name]))\n",
    "        root.createChildren(partitions)\n",
    "        root.setValue(split_attr_name)\n",
    "        for idx,partition in enumerate(partitions):\n",
    "            partition_df = df[df[split_attr_name] == partition]\n",
    "            decision_tree(root.child[idx][partition], partition_df, [x for x in attribute_list if x != split_attr_name])\n",
    "\n",
    "#decision_tree(root, df, ['level', 'lang','tweets','phd'])\n",
    "#decision_tree(root, df1, ['age-over30','sex','region','income-over40','married','children','car','mortgage'])"
   ]
  },
  {
   "cell_type": "code",
   "execution_count": 39,
   "metadata": {
    "collapsed": false,
    "scrolled": true
   },
   "outputs": [
    {
     "name": "stdout",
     "output_type": "stream",
     "text": [
      "1\n",
      "YES\n",
      "1\n",
      "YES\n",
      "1\n",
      "NO\n",
      "1\n",
      "NO\n",
      "1\n",
      "YES\n",
      "1\n",
      "YES\n",
      "1\n"
     ]
    }
   ],
   "source": [
    "def predict(root, obj):\n",
    "    while root:\n",
    "        attr = root.data\n",
    "        value = obj[attr]\n",
    "        for child in root.child:\n",
    "            child_node = child.get(value)\n",
    "            if child_node:\n",
    "                if type(child_node.data) is dict and (child_node.data.get('label') or child_node.data.get('label') == False):\n",
    "                    return child_node.data.get('label')\n",
    "                else:\n",
    "                    root = child_node\n",
    "                    break\n",
    "\n",
    "trees = random_forest(banks_training, 8, 70)\n",
    "test_data_point = banks_testing.loc[1]\n",
    "for tree in trees:\n",
    "    print(1)\n",
    "    print(predict(tree, test_data_point))"
   ]
  },
  {
   "cell_type": "code",
   "execution_count": 6,
   "metadata": {
    "collapsed": false
   },
   "outputs": [
   ],
   "source": [
    "def random_sampling(attributes, number):\n",
    "    rand_attr = []\n",
    "    temp_length = len(attributes)\n",
    "    temp_attributes = attributes\n",
    "    for i in range(0, number):\n",
    "        rand_index = randrange(temp_length)\n",
    "        rand_attr.append(temp_attributes[rand_index])\n",
    "        temp_attributes = [x for x in temp_attributes if x != temp_attributes[rand_index]]\n",
    "        temp_length -= 1\n",
    "    return rand_attr\n",
    "\n",
    "\n",
    "def random_forest(df, numberOfTrees, percentageOfAttributes):\n",
    "    trees = []\n",
    "    columns = df.columns.tolist()\n",
    "    columns.remove('label')\n",
    "    number_of_attributes = math.floor((percentageOfAttributes/100) * len(columns))\n",
    "    for i in range(0, numberOfTrees):\n",
    "        rand_attr_list = random_sampling(columns, number_of_attributes)\n",
    "        root = Tree()\n",
    "        decision_tree(root, df, rand_attr_list)\n",
    "        trees.append(root)\n",
    "    return trees\n"
   ]
  },
  {
   "cell_type": "code",
   "execution_count": 33,
   "metadata": {
    "collapsed": false
   },
   "outputs": [
    {
     "name": "stdout",
     "output_type": "stream",
     "text": [
      "testing\n",
      "YES\n",
      "testing\n"
     ]
    },
    {
     "ename": "KeyboardInterrupt",
     "evalue": "",
     "output_type": "error",
     "traceback": [
      "\u001b[0;31m---------------------------------------------------------------------------\u001b[0m",
      "\u001b[0;31mKeyboardInterrupt\u001b[0m                         Traceback (most recent call last)",
      "\u001b[0;32m<ipython-input-33-9015c3303bb7>\u001b[0m in \u001b[0;36m<module>\u001b[0;34m\u001b[0m\n\u001b[1;32m     20\u001b[0m     \u001b[0mprint\u001b[0m\u001b[0;34m(\u001b[0m\u001b[0maccuracy\u001b[0m\u001b[0;34m)\u001b[0m\u001b[0;34m\u001b[0m\u001b[0;34m\u001b[0m\u001b[0m\n\u001b[1;32m     21\u001b[0m \u001b[0;34m\u001b[0m\u001b[0m\n\u001b[0;32m---> 22\u001b[0;31m \u001b[0mTrainAndTestRandomForest\u001b[0m\u001b[0;34m(\u001b[0m\u001b[0mbanks_training\u001b[0m\u001b[0;34m,\u001b[0m \u001b[0;36m7\u001b[0m\u001b[0;34m,\u001b[0m \u001b[0;36m70\u001b[0m\u001b[0;34m,\u001b[0m \u001b[0mbanks_testing\u001b[0m\u001b[0;34m)\u001b[0m\u001b[0;34m\u001b[0m\u001b[0;34m\u001b[0m\u001b[0m\n\u001b[0m",
      "\u001b[0;32m<ipython-input-33-9015c3303bb7>\u001b[0m in \u001b[0;36mTrainAndTestRandomForest\u001b[0;34m(trainingdata, numberOfTrees, percentageOfAttributes, testdata)\u001b[0m\n\u001b[1;32m      9\u001b[0m         \u001b[0mreal_value\u001b[0m \u001b[0;34m=\u001b[0m \u001b[0mrow\u001b[0m\u001b[0;34m[\u001b[0m\u001b[0;34m'label'\u001b[0m\u001b[0;34m]\u001b[0m\u001b[0;34m\u001b[0m\u001b[0;34m\u001b[0m\u001b[0m\n\u001b[1;32m     10\u001b[0m         \u001b[0;32mfor\u001b[0m \u001b[0mtree\u001b[0m \u001b[0;32min\u001b[0m \u001b[0mtrees\u001b[0m\u001b[0;34m:\u001b[0m\u001b[0;34m\u001b[0m\u001b[0;34m\u001b[0m\u001b[0m\n\u001b[0;32m---> 11\u001b[0;31m             \u001b[0mvotes\u001b[0m \u001b[0;34m=\u001b[0m \u001b[0mnp\u001b[0m\u001b[0;34m.\u001b[0m\u001b[0mappend\u001b[0m\u001b[0;34m(\u001b[0m\u001b[0mvotes\u001b[0m\u001b[0;34m,\u001b[0m \u001b[0mpredict\u001b[0m\u001b[0;34m(\u001b[0m\u001b[0mtree\u001b[0m\u001b[0;34m,\u001b[0m \u001b[0mrow\u001b[0m\u001b[0;34m)\u001b[0m\u001b[0;34m)\u001b[0m\u001b[0;34m\u001b[0m\u001b[0;34m\u001b[0m\u001b[0m\n\u001b[0m\u001b[1;32m     12\u001b[0m         \u001b[0munique_votes\u001b[0m\u001b[0;34m,\u001b[0m \u001b[0mvotes_count\u001b[0m \u001b[0;34m=\u001b[0m \u001b[0mnp\u001b[0m\u001b[0;34m.\u001b[0m\u001b[0munique\u001b[0m\u001b[0;34m(\u001b[0m\u001b[0mvotes\u001b[0m\u001b[0;34m,\u001b[0m \u001b[0mreturn_counts\u001b[0m\u001b[0;34m=\u001b[0m\u001b[0;32mTrue\u001b[0m\u001b[0;34m)\u001b[0m\u001b[0;34m\u001b[0m\u001b[0;34m\u001b[0m\u001b[0m\n\u001b[1;32m     13\u001b[0m         \u001b[0mmax_vote_index\u001b[0m \u001b[0;34m=\u001b[0m \u001b[0mnp\u001b[0m\u001b[0;34m.\u001b[0m\u001b[0margmax\u001b[0m\u001b[0;34m(\u001b[0m\u001b[0mvotes_count\u001b[0m\u001b[0;34m)\u001b[0m\u001b[0;34m\u001b[0m\u001b[0;34m\u001b[0m\u001b[0m\n",
      "\u001b[0;32m<ipython-input-5-a70fc969e799>\u001b[0m in \u001b[0;36mpredict\u001b[0;34m(root, obj)\u001b[0m\n\u001b[1;32m      3\u001b[0m         \u001b[0mattr\u001b[0m \u001b[0;34m=\u001b[0m \u001b[0mroot\u001b[0m\u001b[0;34m.\u001b[0m\u001b[0mdata\u001b[0m\u001b[0;34m\u001b[0m\u001b[0;34m\u001b[0m\u001b[0m\n\u001b[1;32m      4\u001b[0m         \u001b[0mvalue\u001b[0m \u001b[0;34m=\u001b[0m \u001b[0mobj\u001b[0m\u001b[0;34m[\u001b[0m\u001b[0mattr\u001b[0m\u001b[0;34m]\u001b[0m\u001b[0;34m\u001b[0m\u001b[0;34m\u001b[0m\u001b[0m\n\u001b[0;32m----> 5\u001b[0;31m         \u001b[0;32mfor\u001b[0m \u001b[0mchild\u001b[0m \u001b[0;32min\u001b[0m \u001b[0mroot\u001b[0m\u001b[0;34m.\u001b[0m\u001b[0mchild\u001b[0m\u001b[0;34m:\u001b[0m\u001b[0;34m\u001b[0m\u001b[0;34m\u001b[0m\u001b[0m\n\u001b[0m\u001b[1;32m      6\u001b[0m             \u001b[0mchild_node\u001b[0m \u001b[0;34m=\u001b[0m \u001b[0mchild\u001b[0m\u001b[0;34m.\u001b[0m\u001b[0mget\u001b[0m\u001b[0;34m(\u001b[0m\u001b[0mvalue\u001b[0m\u001b[0;34m)\u001b[0m\u001b[0;34m\u001b[0m\u001b[0;34m\u001b[0m\u001b[0m\n\u001b[1;32m      7\u001b[0m             \u001b[0;32mif\u001b[0m \u001b[0mchild_node\u001b[0m\u001b[0;34m:\u001b[0m\u001b[0;34m\u001b[0m\u001b[0;34m\u001b[0m\u001b[0m\n",
      "\u001b[0;31mKeyboardInterrupt\u001b[0m: "
     ]
    }
   ],
   "source": [
    "def TrainAndTestRandomForest(trainingdata, numberOfTrees, percentageOfAttributes, testdata):\n",
    "    trees = random_forest(trainingdata, numberOfTrees, percentageOfAttributes)\n",
    "\n",
    "    total_count = 0\n",
    "    correct_prediction = 0\n",
    "    for row in banks_testing.to_dict(orient=\"records\"):\n",
    "        print('testing')\n",
    "        votes = np.array([])\n",
    "        real_value = row['label']\n",
    "        for tree in trees:\n",
    "            votes = np.append(votes, predict(tree, row))\n",
    "        unique_votes, votes_count = np.unique(votes, return_counts=True)\n",
    "        max_vote_index = np.argmax(votes_count)\n",
    "        predicted = unique_votes[max_vote_index]\n",
    "        print(predicted)\n",
    "        if predicted == real_value:\n",
    "            correct_prediction += 1\n",
    "        total_count += 1\n",
    "    accuracy = correct_prediction/total_count\n",
    "    print(accuracy)\n",
    "\n",
    "TrainAndTestRandomForest(banks_training, 7, 70, banks_testing)"
   ]
  },
  {
   "cell_type": "code",
   "execution_count": 28,
   "metadata": {
    "collapsed": false
   },
   "outputs": [
    {
     "name": "stdout",
     "output_type": "stream",
     "text": [
      "YES\n",
      "NO\n",
      "NO\n",
      "NO\n",
      "NO\n",
      "NO\n",
      "NO\n",
      "YES\n",
      "YES\n",
      "NO\n"
     ]
    }
   ],
   "source": [
    "for row in banks_testing.to_dict(orient=\"records\"):\n",
    "        real_value = row['label']\n",
    "        print(real_value)\n"
   ]
  },
  {
   "cell_type": "code",
   "execution_count": 0,
   "metadata": {
    "collapsed": false
   },
   "outputs": [
   ],
   "source": [
   ]
  },
  {
   "cell_type": "code",
   "execution_count": 0,
   "metadata": {
    "collapsed": false
   },
   "outputs": [
   ],
   "source": [
   ]
  }
 ],
 "metadata": {
  "kernelspec": {
   "display_name": "Python 3 (system-wide)",
   "language": "python",
   "metadata": {
    "cocalc": {
     "description": "Python 3 programming language",
     "priority": 100,
     "url": "https://www.python.org/"
    }
   },
   "name": "python3"
  },
  "language_info": {
   "codemirror_mode": {
    "name": "ipython",
    "version": 3
   },
   "file_extension": ".py",
   "mimetype": "text/x-python",
   "name": "python",
   "nbconvert_exporter": "python",
   "pygments_lexer": "ipython3",
   "version": "3.8.2"
  }
 },
 "nbformat": 4,
 "nbformat_minor": 4
}